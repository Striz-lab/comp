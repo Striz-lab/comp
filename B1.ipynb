{
 "cells": [
  {
   "cell_type": "markdown",
   "id": "antique-emission",
   "metadata": {},
   "source": [
    "# Задача 1"
   ]
  },
  {
   "cell_type": "code",
   "execution_count": 1,
   "id": "opposite-cycle",
   "metadata": {},
   "outputs": [],
   "source": [
    "import pandas as pd\n",
    "import numpy as np\n",
    "from scipy import special\n",
    "from scipy import linalg\n",
    "import matplotlib.pyplot as plt\n",
    "\n",
    "MIN = -10\n",
    "MAX =  10\n",
    "\n",
    "def get_random_matrix(size = None): \n",
    "    return np.random.uniform(-10, 10, size)\n",
    "\n",
    "#Генератор по пунктам\n",
    "class matrix_generator():\n",
    "    def __init__(self, MIN, MAX):\n",
    "        self.MIN = MIN\n",
    "        self.MAX = MAX\n",
    "    def random_matrix(self, size = None): \n",
    "        return np.random.uniform(MIN, MAX, size)\n",
    "    def diagonal_matrix(self, n):\n",
    "        M = np.zeros([n, n])\n",
    "        np.fill_diagonal(M, get_random_matrix(n))\n",
    "        return M\n",
    "    def up_triangle(self, n):\n",
    "        return np.triu(get_random_matrix([n, n]))\n",
    "    def down_triangle(self, n):\n",
    "        return np.triu(get_random_matrix([n, n])).T\n",
    "    def symmetrical_mtrix(self, n):\n",
    "        M = get_random_matrix([n, n])\n",
    "        return (M.T+M)/2\n",
    "    def degen(self, size):\n",
    "        M = get_random_matrix(size)\n",
    "        M[0] = 0*M[1]\n",
    "        return M\n",
    "    def lad(self, n, m):\n",
    "        M = np.triu(get_random_matrix([n, n]))\n",
    "        M[M:]=0\n",
    "        return M\n",
    "    def random_perturbation(self, size, epsilon):\n",
    "        return np.random.uniform(-epsilon, epsilon, size)\n"
   ]
  },
  {
   "cell_type": "markdown",
   "id": "brutal-branch",
   "metadata": {},
   "source": [
    "Вероятность вырождения матрицы - вероятность нулевой строчки или столбца. С данным типом данных и диапазоном, вероятность генерации 0 - $1:10^{15}$, тогда, вероятность генерации вырожденной матрицы - порядка $10^{-15n}$, где n - размер матрицы."
   ]
  },
  {
   "cell_type": "code",
   "execution_count": 2,
   "id": "indian-values",
   "metadata": {},
   "outputs": [
    {
     "data": {
      "text/plain": [
       "[<matplotlib.lines.Line2D at 0x7fade1efdb80>]"
      ]
     },
     "execution_count": 2,
     "metadata": {},
     "output_type": "execute_result"
    },
    {
     "data": {
      "image/png": "[encoded data removed]",
      "text/plain": [
       "<Figure size 360x360 with 1 Axes>"
      ]
     },
     "metadata": {
      "needs_background": "light"
     },
     "output_type": "display_data"
    }
   ],
   "source": [
    "Matrix = matrix_generator(-10,10)\n",
    "Y = np.zeros(200)\n",
    "for n in range(200):\n",
    "    results = np.zeros(30)\n",
    "    for i in range(30):\n",
    "        A = Matrix.random_perturbation([n + 1,n + 1], 0.0005)\n",
    "        results[i] = ((np.amax(np.linalg.eigvals(A.T @ A)))**0.5) / 0.0005\n",
    "    Y[n] = results.mean()\n",
    "\n",
    "fig,ax=plt.subplots(1,1,figsize=(5,5))\n",
    "\n",
    "plt.plot(np.arange(200),Y**2)"
   ]
  },
  {
   "cell_type": "markdown",
   "id": "fresh-journalist",
   "metadata": {},
   "source": [
    "L2 норма матрицы возмущений примерно в $\\sqrt N$ раз превышает $\\varepsilon$, N - размер матрицы."
   ]
  },
  {
   "cell_type": "markdown",
   "id": "alleged-characterization",
   "metadata": {},
   "source": [
    "# Задача 2"
   ]
  },
  {
   "cell_type": "code",
   "execution_count": 3,
   "id": "olive-belarus",
   "metadata": {},
   "outputs": [],
   "source": [
    "class functions():\n",
    "    def exp(x, modified=True):\n",
    "        flag = False\n",
    "        if modified == True:\n",
    "            if x < 0:\n",
    "                flag = True\n",
    "                x = abs(x)\n",
    "        y = 0\n",
    "        n = 1\n",
    "        term  = 1\n",
    "        while y != y + term:\n",
    "            y = y + term\n",
    "            term  = term * x/ n\n",
    "            n += 1 \n",
    "        if flag == True and modified == True:\n",
    "            y = 1 / y\n",
    "\n",
    "        return y\n",
    "    \n",
    "    def ln(x):\n",
    "        n = 1\n",
    "        while x**(1/n) > 2 :\n",
    "            n +=1\n",
    "        x = x**(1/n) -1\n",
    "        term = x\n",
    "        k = 1\n",
    "        y = 0\n",
    "        while y != y + term:\n",
    "            y = y + term\n",
    "            term = -term * x * k /(k+1) \n",
    "            k += 1\n",
    "        return y*n\n",
    "\n",
    "    def sin(x, modified=True):\n",
    "        y = 0\n",
    "        n = 1\n",
    "        flag = False\n",
    "        if modified:\n",
    "            x = x % (2 * np.pi) \n",
    "            if (x > np.pi):\n",
    "                flag = True\n",
    "                x -= np.pi\n",
    "\n",
    "        term = x\n",
    "        while y != y + term:\n",
    "            y = y + term\n",
    "            term = term*x*x/((n+2)*(n+1))*(-1)\n",
    "            n += 2\n",
    "        if flag:\n",
    "            y = -y\n",
    "        return y\n",
    "    \n",
    "    def cos(x, modified=True):\n",
    "        y = 0\n",
    "        n = 0\n",
    "        flag = False\n",
    "        if modified:\n",
    "            x = x % (2 * np.pi) \n",
    "            if (x > np.pi):\n",
    "                flag = True\n",
    "                x -= np.pi\n",
    "\n",
    "        term = 1\n",
    "        while y != y + term:\n",
    "            y = y + term\n",
    "            term = term*x*x/((n+2)*(n+1))*(-1)\n",
    "            n += 2\n",
    "        if flag:\n",
    "            y = -y\n",
    "        return y\n",
    "\n",
    "    #Чисто технически, эти функции вычислены с помощью рядов маклорена)))\n",
    "    def tan(x, modified=True):\n",
    "        return sin(x, modified = modified)/cos(x, modified = modified)\n",
    "            \n",
    "    def cot(x, modified=True):\n",
    "        return cos(x, modified = modified)/sin(x, modified = modified)\n",
    "    \n",
    "    def asin(x, modified=True):\n",
    "        pass\n",
    "    \n",
    "    def acos(x, modified=True):\n",
    "        return np.pi/2-asin(x, modified=modified)\n",
    "    \n",
    "    def atan(x, modified=True):\n",
    "        pass\n",
    "    \n",
    "    def sh(x, modified=True):\n",
    "        return (exp(x, modified = modified)-exp(-x, modified = modified))/2\n",
    "    \n",
    "    def ch(x, modified=True):\n",
    "        return (exp(x, modified = modified)+exp(-x, modified = modified))/2\n",
    "        \n",
    "    def th(x, modified=True):\n",
    "        return sh(x, modified = modified)/ch(x, modified = modified)\n",
    "        \n",
    "    def ath():\n",
    "        pass"
   ]
  },
  {
   "cell_type": "markdown",
   "id": "stone-google",
   "metadata": {},
   "source": [
    "# Задача 3"
   ]
  },
  {
   "cell_type": "code",
   "execution_count": 4,
   "id": "superior-prairie",
   "metadata": {},
   "outputs": [],
   "source": [
    "def L2(M, treat_array_as_vector=True):\n",
    "    if treat_array_as_vector == True:\n",
    "        if len(M.shape) == 1:\n",
    "            M = M.reshape((-1, 1))\n",
    "    return (np.amax(np.linalg.eigvals(M.T @ M)))**0.5\n",
    "\n",
    "def L1(M, treat_array_as_vector=True):\n",
    "    if treat_array_as_vector == True:\n",
    "        if len(M.shape) == 1:\n",
    "            M = M.reshape((-1, 1))\n",
    "    M = np.abs(M)\n",
    "    return np.amax(np.sum(M, axis=0))\n",
    "\n",
    "def L_cube(M, treat_array_as_vector=True):\n",
    "    if treat_array_as_vector == True:\n",
    "        if len(M.shape) == 1:\n",
    "            M = M.reshape((-1, 1))\n",
    "    M = np.abs(M)\n",
    "    return np.amax(np.sum(M, axis=1))\n",
    "\n",
    "def cond_number(M, norm):\n",
    "    if M.shape[0] != M.shape[1]:\n",
    "        return np.infty\n",
    "    if np.linalg.matrix_rank(M) != M.shape[0]:\n",
    "        return np.infty\n",
    "    return norm(M) * norm(np.linalg.inv(M))"
   ]
  },
  {
   "cell_type": "markdown",
   "id": "rising-transfer",
   "metadata": {},
   "source": [
    "# Задача 4"
   ]
  },
  {
   "cell_type": "code",
   "execution_count": 5,
   "id": "fatal-edinburgh",
   "metadata": {},
   "outputs": [],
   "source": [
    "def Gauss(M):\n",
    "    n = np.shape(M)[0]\n",
    "    for i in range(0, n - 1):\n",
    "        nonzeros = np.nonzero(M[i:,i])\n",
    "        if nonzeros[0].size != 0 :\n",
    "            k = nonzeros[0][0]\n",
    "            M[[i, k + i]] = M[[k + 1, i]]\n",
    "            \n",
    "            for j in range(i + 1, n):\n",
    "                k = M[j, i] / M[i, i] \n",
    "                M[j, :] = M[j, :] - k * M[i, :]\n",
    "\n",
    "def rk(M):\n",
    "    Gauss(M)\n",
    "    return M.shape[0] - np.sum(np.sum((M != 0), axis=1)==0)"
   ]
  },
  {
   "cell_type": "code",
   "execution_count": 7,
   "id": "correct-victoria",
   "metadata": {},
   "outputs": [
    {
     "name": "stdout",
     "output_type": "stream",
     "text": [
      "Вот рандомная матрица:\n",
      "\n",
      "[[-3.01297303 -2.28560233  7.23260292  4.05644637]\n",
      " [-6.84679874  1.684519    8.86212034 -1.81348334]\n",
      " [ 2.1071131  -8.1252832   9.13486308  1.12708086]] \n",
      "\n",
      "Вот её Гауссова форма:\n",
      "\n",
      "[[ -3.01297303  -2.28560233   7.23260292   4.05644637]\n",
      " [  0.           6.87841189  -7.5735318  -11.03151206]\n",
      " [  0.           0.           3.48658821 -11.63082538]] \n",
      "\n",
      "Вот рандомная вырожденная матрица:\n",
      "\n",
      "[[ 0.          0.          0.        ]\n",
      " [ 5.03628063  1.97031327  7.5877874 ]\n",
      " [-7.06342729 -8.63414941  9.79211953]] \n",
      "\n",
      "Вот её Гауссова форма:\n",
      "\n",
      "[[-7.06342729 -8.63414941  9.79211953]\n",
      " [ 0.          0.          0.        ]\n",
      " [ 0.          0.          0.        ]] \n",
      "\n",
      "Её ранг: 1 \n",
      "\n",
      "Вот рандомная вырожденная матрица:\n",
      "\n",
      "[[ 0.00000000e+00 -0.00000000e+00 -0.00000000e+00  0.00000000e+00]\n",
      " [ 1.23685602e+00 -3.79289240e+00 -5.46071458e+00  8.91419875e+00]\n",
      " [-3.95356672e+00  7.02150335e-01  7.49213298e+00  4.47447155e+00]\n",
      " [-5.71843140e+00 -1.40777379e+00  1.28869571e-03  5.23911655e+00]] \n",
      "\n",
      "Вот её Гауссова форма:\n",
      "\n",
      "[[ -3.95356672   0.70215034   7.49213298   4.47447155]\n",
      " [  0.          -2.4233627  -10.83531822  -1.2327506 ]\n",
      " [  0.           0.           0.           0.        ]\n",
      " [  0.           0.           0.           0.        ]] \n",
      "\n",
      "Её ранг: 2 \n",
      "\n"
     ]
    }
   ],
   "source": [
    "M = matrix_generator(-10,10)                    \n",
    "B = M.random_matrix([3,4])\n",
    "\n",
    "print(\"Вот рандомная матрица:\\n\")\n",
    "print(B,\"\\n\")\n",
    "\n",
    "print(\"Вот её Гауссова форма:\\n\")\n",
    "Gauss(B)\n",
    "print(B,\"\\n\")\n",
    "\n",
    "for i in (1,2):\n",
    "    A = M.degen([i+2,i+2])\n",
    "    print(\"Вот рандомная вырожденная матрица:\\n\")\n",
    "    print(A,\"\\n\")\n",
    "    Gauss(A)\n",
    "    print(\"Вот её Гауссова форма:\\n\")\n",
    "    print(A,\"\\n\")\n",
    "    print(\"Её ранг:\",rk(A),\"\\n\")\n"
   ]
  },
  {
   "cell_type": "markdown",
   "id": "automated-application",
   "metadata": {},
   "source": [
    "# Задача 5"
   ]
  },
  {
   "cell_type": "code",
   "execution_count": 13,
   "id": "prostate-pendant",
   "metadata": {},
   "outputs": [],
   "source": [
    "def Solve(A, b):#сложность O(N^3)\n",
    "    n = A.shape[0]\n",
    "    M = np.hstack((A, np.reshape(b,(n, 1)))).astype(float)\n",
    "    Gauss(M)\n",
    "    n, m = M.shape\n",
    "    solution = np.zeros(n)\n",
    "    for k in range(n-1, -1, -1):\n",
    "        M[:k, m-1] = M[:k, m-1] - M[:k, k]*M[k, m-1]/M[k, k]\n",
    "        solution[k] = M[k, m-1]/M[k, k]\n",
    "        \n",
    "    return solution"
   ]
  },
  {
   "cell_type": "markdown",
   "id": "suitable-cologne",
   "metadata": {},
   "source": [
    "# Задача 6"
   ]
  },
  {
   "cell_type": "code",
   "execution_count": 31,
   "id": "decimal-class",
   "metadata": {},
   "outputs": [
    {
     "name": "stdout",
     "output_type": "stream",
     "text": [
      "Число обусловлености для рассчета:  0.5351486678147395\n",
      "Число обусловлености :  342.06284364599435 \n",
      "\n"
     ]
    },
    {
     "data": {
      "image/png": "[encoded data removed]",
      "text/plain": [
       "<Figure size 432x288 with 1 Axes>"
      ]
     },
     "metadata": {
      "needs_background": "light"
     },
     "output_type": "display_data"
    }
   ],
   "source": [
    "N = 200\n",
    "Matrix = matrix_generator(-10,10)\n",
    "A = Matrix.random_matrix([N,N])\n",
    "b = 20*np.random.rand(N, 1)\n",
    "\n",
    "x = Solve(A, b)\n",
    "norm_x = L2(x)\n",
    "norm_b = L2(b)\n",
    "errx = []\n",
    "errb = []\n",
    "epsilon = 0.01\n",
    "for i in range(100):\n",
    "    db = -epsilon + 2*epsilon*np.random.rand(N, 1)\n",
    "    xn = Solve(A, b+db)\n",
    "    dx = xn - x\n",
    "    errx.append(L2(dx)/norm_x)\n",
    "    errb.append(L2(db)/norm_b)\n",
    "    \n",
    "import matplotlib.pyplot as plt\n",
    "\n",
    "plt.scatter(errb, errx)\n",
    "plt.title(\"Расброс ошибок\")\n",
    "plt.plot()\n",
    "\n",
    "print(\"Число обусловлености для рассчета: \", np.mean(np.array(errx) / np.array(errb)))\n",
    "print(\"Число обусловлености : \", L2(A)*L2(np.linalg.inv(A)),\"\\n\")"
   ]
  },
  {
   "cell_type": "code",
   "execution_count": null,
   "id": "ranging-difficulty",
   "metadata": {},
   "outputs": [],
   "source": []
  }
 ],
 "metadata": {
  "kernelspec": {
   "display_name": "Python 3",
   "language": "python",
   "name": "python3"
  },
  "language_info": {
   "codemirror_mode": {
    "name": "ipython",
    "version": 3
   },
   "file_extension": ".py",
   "mimetype": "text/x-python",
   "name": "python",
   "nbconvert_exporter": "python",
   "pygments_lexer": "ipython3",
   "version": "3.8.6rc1"
  }
 },
 "nbformat": 4,
 "nbformat_minor": 5
}
