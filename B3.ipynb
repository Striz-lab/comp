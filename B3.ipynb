{
 "cells": [
  {
   "cell_type": "code",
   "execution_count": 1,
   "id": "australian-privilege",
   "metadata": {},
   "outputs": [],
   "source": [
    "import numpy as np\n",
    "from matplotlib import pyplot as plt\n",
    "import time\n",
    "import scipy.sparse\n",
    "import scipy.linalg\n",
    "from scipy.stats import ortho_group\n",
    "import sys\n",
    "from scipy.sparse.linalg import spsolve\n",
    "import scipy.sparse.linalg"
   ]
  },
  {
   "cell_type": "markdown",
   "id": "surprising-correlation",
   "metadata": {},
   "source": [
    "## Задача 1"
   ]
  },
  {
   "cell_type": "code",
   "execution_count": 2,
   "id": "variable-blackberry",
   "metadata": {},
   "outputs": [],
   "source": [
    "def generate_rand_band_matrix(N, gen_type):\n",
    "    \"\"\"\n",
    "    gen_type = 0 - diagonal with 3 diags, stored as full matrix\n",
    "    gen_type = 1 - 3 rows, sotred as full matrix\n",
    "    gen_type = 2 - same as gen_type = 0 but stored as scipy sparce matrix\n",
    "    \"\"\"\n",
    "    if gen_type == 0:\n",
    "        d1 = np.random.uniform(-1, 1, size=N - 1)\n",
    "        d2 = np.random.uniform(-1, 1, size=N)\n",
    "        d3 = np.random.uniform(-1, 1, size=N - 1)\n",
    "        diagonals = [d1, d2, d3]\n",
    "        return scipy.sparse.diags(diagonals, [-1, 0, 1]).toarray()\n",
    "    elif gen_type == 1:\n",
    "        A = np.zeros([3, N])\n",
    "        d1 = np.random.uniform(-1, 1, size=N)\n",
    "        d2 = np.random.uniform(-1, 1, size=N)\n",
    "        d3 = np.random.uniform(-1, 1, size=N)\n",
    "        A[0] = d1\n",
    "        A[1] = d2\n",
    "        A[2] = d3\n",
    "        return A\n",
    "    else:\n",
    "        d1 = np.random.uniform(-1, 1, size=N - 1)\n",
    "        d2 = np.random.uniform(-1, 1, size=N)\n",
    "        d3 = np.random.uniform(-1, 1, size=N - 1)\n",
    "        diagonals = [d1, d2, d3]\n",
    "        return scipy.sparse.diags(diagonals, [-1,0, 1])\n",
    "    \n",
    "def generate_const_band_matrix(N, A, B, C, gen_type):\n",
    "    if gen_type == 0:\n",
    "        d1 = A * np.ones(N-1)\n",
    "        d2 = B * np.ones(N)\n",
    "        d3 = C * np.ones(N-1)\n",
    "        diagonals = [d1, d2, d3]\n",
    "        return scipy.sparse.diags(diagonals, [-1, 0, 1]).toarray()\n",
    "    elif gen_type == 1:\n",
    "        A = np.zeros([N, N])\n",
    "        d1 = A * np.ones(N)\n",
    "        d2 = B * np.ones(N)\n",
    "        d3 = C * np.ones(N)\n",
    "        A[0] = d1\n",
    "        A[int(N / 2)] = d2\n",
    "        A[N - 1] = d3\n",
    "        return A\n",
    "    else:\n",
    "        d1 = A * np.ones(N-1)\n",
    "        d2 = B * np.ones(N)\n",
    "        d3 = C * np.ones(N-1)\n",
    "        diagonals = [d1, d2, d3]\n",
    "        return scipy.sparse.diags(diagonals, [-1,0, 1])\n",
    "\n",
    "def generate_eps_band_matrix(N, eps, gen_type):\n",
    "    if gen_type == 0:\n",
    "        d1 = np.random.uniform(-eps, eps, size=N - 1)\n",
    "        d2 = np.random.uniform(-eps, eps, size=N)\n",
    "        d3 = np.random.uniform(-eps, eps, size=N - 1)\n",
    "        diagonals = [d1, d2, d3]\n",
    "        return scipy.sparse.diags(diagonals, [-1, 0, 1]).toarray()\n",
    "    elif gen_type == 1:\n",
    "        A = np.zeros([N, N])\n",
    "        d1 = np.random.uniform(-eps, eps, size=N)\n",
    "        d2 = np.random.uniform(-eps, eps, size=N)\n",
    "        d3 = np.random.uniform(-eps, eps, size=N)\n",
    "        A[0] = d1\n",
    "        A[int(N / 2)] = d2\n",
    "        A[N - 1] = d3\n",
    "        return A\n",
    "    else:\n",
    "        d1 = np.random.uniform(-eps, eps, size=N - 1)\n",
    "        d2 = np.random.uniform(-eps, eps, size=N)\n",
    "        d3 = np.random.uniform(-eps, eps, size=N - 1)\n",
    "        diagonals = [d1, d2, d3]\n",
    "        return scipy.sparse.diags(diagonals, [-1,0, 1])\n",
    "\n",
    "def generate_band_matrix(N, d1, d2, d3, gen_type):\n",
    "    if gen_type == 0:\n",
    "        diagonals = [d1, d2, d3]\n",
    "        return scipy.sparse.diags(diagonals, [-1, 0, 1]).toarray()\n",
    "    elif gen_type == 1:\n",
    "        A = np.zeros([N, N])\n",
    "        A[0] = d1\n",
    "        A[int(N / 2)] = d2\n",
    "        A[N - 1] = d3\n",
    "        return A\n",
    "    else:\n",
    "        diagonals = [d1, d2, d3]\n",
    "        return scipy.sparse.diags(diagonals, [-1,0, 1])"
   ]
  },
  {
   "cell_type": "code",
   "execution_count": null,
   "id": "capital-evanescence",
   "metadata": {},
   "outputs": [],
   "source": []
  },
  {
   "cell_type": "code",
   "execution_count": null,
   "id": "heavy-think",
   "metadata": {},
   "outputs": [],
   "source": []
  },
  {
   "cell_type": "code",
   "execution_count": null,
   "id": "focal-parcel",
   "metadata": {},
   "outputs": [],
   "source": []
  },
  {
   "cell_type": "code",
   "execution_count": null,
   "id": "naughty-coordination",
   "metadata": {},
   "outputs": [],
   "source": []
  },
  {
   "cell_type": "code",
   "execution_count": null,
   "id": "detailed-filing",
   "metadata": {},
   "outputs": [],
   "source": []
  },
  {
   "cell_type": "markdown",
   "id": "middle-mystery",
   "metadata": {},
   "source": [
    "## Задача 2"
   ]
  },
  {
   "cell_type": "code",
   "execution_count": null,
   "id": "incomplete-tunisia",
   "metadata": {},
   "outputs": [],
   "source": []
  },
  {
   "cell_type": "markdown",
   "id": "quality-advance",
   "metadata": {},
   "source": [
    "## Задача 3"
   ]
  },
  {
   "cell_type": "code",
   "execution_count": null,
   "id": "inside-contents",
   "metadata": {},
   "outputs": [],
   "source": []
  },
  {
   "cell_type": "markdown",
   "id": "military-alexandria",
   "metadata": {},
   "source": [
    "## Задача 4"
   ]
  },
  {
   "cell_type": "code",
   "execution_count": null,
   "id": "resident-bangkok",
   "metadata": {},
   "outputs": [],
   "source": []
  },
  {
   "cell_type": "markdown",
   "id": "decimal-multimedia",
   "metadata": {},
   "source": [
    "## Задача 5"
   ]
  },
  {
   "cell_type": "code",
   "execution_count": null,
   "id": "massive-restriction",
   "metadata": {},
   "outputs": [],
   "source": []
  },
  {
   "cell_type": "code",
   "execution_count": null,
   "id": "contrary-feeding",
   "metadata": {},
   "outputs": [],
   "source": []
  },
  {
   "cell_type": "code",
   "execution_count": null,
   "id": "fifth-korean",
   "metadata": {},
   "outputs": [],
   "source": []
  },
  {
   "cell_type": "code",
   "execution_count": null,
   "id": "previous-outside",
   "metadata": {},
   "outputs": [],
   "source": []
  },
  {
   "cell_type": "markdown",
   "id": "metropolitan-yield",
   "metadata": {},
   "source": [
    "## Задача 6"
   ]
  },
  {
   "cell_type": "markdown",
   "id": "crude-dominican",
   "metadata": {},
   "source": [
    "Будем работать с Евклидовой нормой для векторов и подчиненной ей спектральной для матриц. Так как А симметрична, значит она диагонализуема, тогда будем рассметривать: $A=\\text{diag}\\{\\gamma_1,\\dots,\\gamma_2\\}$, тогда, преобразуем условие: $$Ax=f\\Leftrightarrow x=(E-\\tau A)x+\\tau f $$ $$x^{(k+1)}=(E-\\tau A) x^{(k)}+\\tau f$$ $$\\delta^{(k)}=Ax^{(k)}-f$$ $$\\delta^{(k+1)}=Ax^{(k+1)}-f=A((E-\\tau A)x^{(k)}_\\tau f)-f=\\dots=\\delta^{(k)}(E-\\tau A)$$ Тогда для норм можно записать: $$\\|\\delta^{(k+1)}\\|\\leqslant \\|E-\\tau A\\|\\|\\delta^{(k)}\\|=\\text{min}\\left(|1-\\tau\\gamma_1|,|1-\\tau\\gamma_2|\\right)\\delta^{(k)}$$ Тогда, для оптимального $\\tau$: $$1-\\tau\\gamma_1=\\tau\\gamma_2-1$$ $$\\tau=\\frac{2}{\\gamma_1+\\gamma-2}$$ Таким образом: $$\\|E-\\tau A\\|=1-\\frac{2\\gamma_1}{\\gamma_1+\\gamma_2}=\\frac{\\gamma_2-\\gamma_1}{\\gamma_2+\\gamma_1}$$Откуда требуемое: $$\\left\\|\\delta^{k+1}\\right\\| \\leq q\\left\\|\\delta^{k}\\right\\|, \\quad q=\\frac{1-\\gamma_{1} / \\gamma_{2}}{1+\\gamma_{1} / \\gamma_{2}}$$"
   ]
  },
  {
   "cell_type": "markdown",
   "id": "muslim-exclusive",
   "metadata": {},
   "source": [
    "Для положительно определенных матриц наилучший параметр $\\tau$ можно найти явно, как $\\frac{2}{\\lambda_{\\max }-\\lambda_{\\min }}$ Данное утверждение доказано в файле \"ProblemB36.pdf\". Из рассуждений из доказательства также следует, что сходимость с некоторой скорости будет достигаться при $ 0 < \\tau < \\frac{2}{\\lambda{max}} $. Проверим это утверждение численным экспериментом."
   ]
  },
  {
   "cell_type": "code",
   "execution_count": 3,
   "id": "pressed-driver",
   "metadata": {},
   "outputs": [
    {
     "name": "stdout",
     "output_type": "stream",
     "text": [
      "315509\n",
      "7745\n",
      "429489\n",
      "83972\n",
      "12349\n",
      "7099\n",
      "42245\n",
      "4927079\n",
      "15584\n",
      "1519\n",
      "9 сходимостей из 10\n"
     ]
    }
   ],
   "source": [
    "def MPI(A, f, tau, eps, ITER_MAX=int(1e7)):\n",
    "    A = np.array(A)\n",
    "    f = np.array(f)\n",
    "    n = A.shape[0]\n",
    "    x = np.zeros(n)\n",
    "    n_iter = 0\n",
    "    for i in range(ITER_MAX):\n",
    "        n_iter += 1\n",
    "        x_old = x\n",
    "        x = ((np.eye(n) - tau * A) @ x.reshape(n, 1)).reshape(1, n) + tau * f\n",
    "        if np.linalg.norm(x - x_old) < eps:\n",
    "            break\n",
    "    return x, n_iter\n",
    "\n",
    "N = 10\n",
    "n = 10\n",
    "N_convergencies = 0\n",
    "f = np.ones(n)\n",
    "for i in range(N):\n",
    "    A = np.random.uniform(-10, 10, size=[n, n])\n",
    "    A = A.T@A\n",
    "    lambdas, vect = np.linalg.eig(A)\n",
    "    l_max = np.max(lambdas)\n",
    "    tau = np.random.uniform(0.0 + 1e-10, 2 / l_max - 1e-10)\n",
    "    l, vect = np.linalg.eig(tau * A - np.eye(n))\n",
    "    x, n_iter = MPI(A, f, tau, 1e-11)\n",
    "    if n_iter < int(1e6):\n",
    "        N_convergencies += 1\n",
    "    print(n_iter)\n",
    "print(str(N_convergencies) + \" сходимостей из \" + str(N))\n",
    "    "
   ]
  },
  {
   "cell_type": "code",
   "execution_count": null,
   "id": "fixed-thriller",
   "metadata": {},
   "outputs": [],
   "source": []
  }
 ],
 "metadata": {
  "kernelspec": {
   "display_name": "Python 3",
   "language": "python",
   "name": "python3"
  },
  "language_info": {
   "codemirror_mode": {
    "name": "ipython",
    "version": 3
   },
   "file_extension": ".py",
   "mimetype": "text/x-python",
   "name": "python",
   "nbconvert_exporter": "python",
   "pygments_lexer": "ipython3",
   "version": "3.8.6rc1"
  }
 },
 "nbformat": 4,
 "nbformat_minor": 5
}
