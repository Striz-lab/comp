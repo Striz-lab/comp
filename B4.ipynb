{
 "cells": [
  {
   "cell_type": "markdown",
   "id": "expired-crown",
   "metadata": {},
   "source": [
    "## Задача 1"
   ]
  },
  {
   "cell_type": "code",
   "execution_count": null,
   "id": "italic-album",
   "metadata": {},
   "outputs": [],
   "source": []
  },
  {
   "cell_type": "markdown",
   "id": "comfortable-workshop",
   "metadata": {},
   "source": [
    "## Задача 2"
   ]
  },
  {
   "cell_type": "code",
   "execution_count": null,
   "id": "eight-philippines",
   "metadata": {},
   "outputs": [],
   "source": []
  },
  {
   "cell_type": "markdown",
   "id": "entitled-hamburg",
   "metadata": {},
   "source": [
    "## Задача 3"
   ]
  },
  {
   "cell_type": "markdown",
   "id": "fluid-sentence",
   "metadata": {},
   "source": [
    "Рассмотрим сходимости различных методов:"
   ]
  },
  {
   "cell_type": "markdown",
   "id": "hungarian-canvas",
   "metadata": {},
   "source": [
    "### Метод Якоби"
   ]
  },
  {
   "cell_type": "markdown",
   "id": "missing-grenada",
   "metadata": {},
   "source": [
    "$$A=L+D+U$$$$Lx^{(k)}+Dx^{(k+1)}+Ux^{(k)}=f$$$$x^{(k+1)}=-D^{-1}(L+U)x^{(k)}+D^{-1}f=Rx^{(k)}+D^{-1}f$$ Выберем норму вектора как максимум: $\\|x\\|=\\underset{1\\leqslant i\\leqslant n}{\\text{max}}|x_i|$. Если $x_0$ - решение, то $$\\delta^{(k)}=x^{(k)}-x_0$$ $$\\delta^{(k+1)}=x^{(k+1)}-x_0=Rx^{(k)}+D^{-1}f-x_0=Rx^{(k)}-Rx_0=R\\delta^{(k)}$$ Покомпонентно: $$\\delta_i^{(k+1)}=\\frac{1}{A_{ii}}\\left(\\sum_{j=1}^{i-1}A_{ij}\\delta_j^{(k)}+\\sum_{j=i+1}^nA_{ij}\\delta_j^{(k)}\\right)$$ Тогда: $$\\|\\delta^{(k+1)}\\|\\leqslant\\|\\delta^{(k)}\\|\\cdot\\underset{i}{\\text{max}}\\frac{\\sum\\limits_{j=1,j\\neq i}^nA_{ij}}{A_{ii}}\\leqslant\\frac{\\sum\\limits_{j=1,j\\neq i}^nA_{ij}}{\\underset{i}{\\text{min}A_{ii}}}\\cdot\\|\\delta^{(k)}\\|$$Так как для метода Якоби диагональные элементы больше недиагональных, то метод сходится по теореме о сжимающих отображениях. "
   ]
  },
  {
   "cell_type": "markdown",
   "id": "consistent-workstation",
   "metadata": {},
   "source": [
    "### Метод Зейделя"
   ]
  },
  {
   "cell_type": "markdown",
   "id": "direct-prize",
   "metadata": {},
   "source": [
    "Аналогично:  $$\\delta_i^{(k+1)}=\\frac1{A_{ii}}\\left(\\sum_{j=1}^{i-1}A_{ij}\\delta_j^{(k+1)}+\\sum_{j=i+1}^nA_{ij}\\delta_j^{(k)}\\right)$$$$\\|\\delta^{(k+1)}\\|\\leqslant \\underset{i}{\\text{max}}\\left(\\frac{1}{A_{ii}}\\sum_{j=1}^{i-1}A_{ij}\\right)\\|\\delta^{(k+1)}\\|+\\underset{i}{\\text{max}}\\left(\\frac{1}{A_{ii}}\\sum_{j=1}^{i-1}A_{ij}\\right)\\|\\delta^{(k)}\\|\\leqslant$$\n",
    "\n",
    "\n",
    "$$\\leqslant\\left(\\frac{1}{\\underset{i}{\\text{min}} A_{ii}}\\sum_{j\\leqslant i}A_{ij}\\right)\\|\\delta^{(k+1)}\\|+\\left(\\frac{1}{\\underset{i}{\\text{min}} A_{ii}}\\sum_{j\\geqslant i}A_{ij}\\right)\\|\\delta^{(k)}\\|=\\alpha\\|\\delta^{(k+1)}\\|+\\beta\\|\\delta^{(k)}\\|$$ Тогда: $$\\|\\delta^{(k+1)}\\|\\leqslant\\|\\delta^{(k)}\\|\\cdot\\frac{\\beta}{1-\\alpha}$$ сходится аналогично Якоби"
   ]
  },
  {
   "cell_type": "markdown",
   "id": "resistant-immunology",
   "metadata": {},
   "source": [
    "### Сравнение методов"
   ]
  },
  {
   "cell_type": "markdown",
   "id": "scenic-major",
   "metadata": {},
   "source": [
    "Коэффициенты сжимающих отображений в 1 и 2 методах равны $K_1=\\alpha+\\beta$ и $K_2=\\frac{\\beta}{1-\\alpha}$ соответственно, в обозначениях, введенных в предпоследнем переходе сходимости метода Зейделя. Очевидно, $K_2-K_1\\leqslant0$, а значит, метод Зейделя сходится быстреее метода Якоби. "
   ]
  },
  {
   "cell_type": "markdown",
   "id": "heated-collapse",
   "metadata": {},
   "source": [
    "## Задача 4"
   ]
  },
  {
   "cell_type": "code",
   "execution_count": null,
   "id": "international-secondary",
   "metadata": {},
   "outputs": [],
   "source": []
  },
  {
   "cell_type": "markdown",
   "id": "ongoing-induction",
   "metadata": {},
   "source": [
    "## Задача 5"
   ]
  },
  {
   "cell_type": "code",
   "execution_count": null,
   "id": "french-commander",
   "metadata": {},
   "outputs": [],
   "source": []
  },
  {
   "cell_type": "markdown",
   "id": "insured-wells",
   "metadata": {},
   "source": [
    "## Задача 6"
   ]
  },
  {
   "cell_type": "markdown",
   "id": "focused-beverage",
   "metadata": {},
   "source": [
    "\\cross"
   ]
  },
  {
   "cell_type": "code",
   "execution_count": null,
   "id": "amazing-bridal",
   "metadata": {},
   "outputs": [],
   "source": []
  }
 ],
 "metadata": {
  "kernelspec": {
   "display_name": "Python 3",
   "language": "python",
   "name": "python3"
  },
  "language_info": {
   "codemirror_mode": {
    "name": "ipython",
    "version": 3
   },
   "file_extension": ".py",
   "mimetype": "text/x-python",
   "name": "python",
   "nbconvert_exporter": "python",
   "pygments_lexer": "ipython3",
   "version": "3.8.6rc1"
  }
 },
 "nbformat": 4,
 "nbformat_minor": 5
}
